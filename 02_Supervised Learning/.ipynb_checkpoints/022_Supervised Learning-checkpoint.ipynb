{
 "cells": [
  {
   "cell_type": "code",
   "execution_count": 1,
   "metadata": {},
   "outputs": [
    {
     "name": "stdout",
     "output_type": "stream",
     "text": [
      "IPython Version : 5.6.0\n",
      "scikit-learn Version : 0.19.1\n",
      "Pandas Version : 0.22.0\n",
      "MgLearn Version : 0.1.6\n",
      "Numpy Version : 1.14.3\n",
      "Matplotlib Version : 2.2.2\n"
     ]
    }
   ],
   "source": [
    "import IPython\n",
    "print(\"IPython Version : {}\".format(IPython.__version__))\n",
    "import sklearn\n",
    "print(\"scikit-learn Version : {}\".format(sklearn.__version__))\n",
    "import pandas as pd\n",
    "print(\"Pandas Version : {}\".format(pd.__version__))\n",
    "import mglearn\n",
    "print(\"MgLearn Version : {}\".format(mglearn.__version__))\n",
    "import numpy as np\n",
    "print(\"Numpy Version : {}\".format(np.__version__))\n",
    "import matplotlib\n",
    "print(\"Matplotlib Version : {}\".format(matplotlib.__version__))\n",
    "import matplotlib.pyplot as plt"
   ]
  },
  {
   "cell_type": "markdown",
   "metadata": {},
   "source": [
    "### 3-2. 선형 모델\n",
    "* 선형 모댈은 입력 특성에 대한 선형 함수를 만들어 예측을 수행한다.\n",
    "* 회귀\n",
    "    * 훈련 데이터로부터 모델 파라미터 w와 b를 학습하는 방법과 모델의 복잡도를 제어하는 방법에서 차이가 납니다."
   ]
  },
  {
   "cell_type": "markdown",
   "metadata": {},
   "source": [
    "#### 선형 회귀(최소제곱법)\n",
    "* 회귀용 선형 알고리즘이다.\n",
    "* 예측과 훈련 세트에 있는 타깃 y 사이의 MSE(평균제곱오차)를 최소화하는 파라미터 w,b를 찾는다.\n",
    "* MSE(평균제곱오차)\n",
    "    * 예측값과 타깃값의 차이를 제곱하여 더한 후에 샘플의 개수로 나눈 것이다.\n",
    "* 장점\n",
    "    * 매개변수가 없다.\n",
    "* 단점\n",
    "    * 모델의 복잡도를 제어할 방법이 없다."
   ]
  },
  {
   "cell_type": "code",
   "execution_count": 3,
   "metadata": {},
   "outputs": [],
   "source": [
    "from sklearn.linear_model import LinearRegression\n",
    "from sklearn.model_selection import train_test_split\n",
    "\n",
    "X, y = mglearn.datasets.make_wave(n_samples=60)\n",
    "X_train, X_test, y_train, y_test = train_test_split(X, y, random_state=42)\n",
    "\n",
    "lr = LinearRegression().fit(X_train, y_train)"
   ]
  },
  {
   "cell_type": "markdown",
   "metadata": {},
   "source": [
    "* 가중치,계수 : 기울기의 파라미터(w) (lr객체의 `coef_`속성에 있음)\n",
    "* `intercept_` : 편향,절편 파라미터(b)"
   ]
  },
  {
   "cell_type": "code",
   "execution_count": 5,
   "metadata": {},
   "outputs": [
    {
     "name": "stdout",
     "output_type": "stream",
     "text": [
      "lr.coef_ : [0.39390555]\n",
      "lr.intercept_ : -0.0318043430268\n"
     ]
    }
   ],
   "source": [
    "print(\"lr.coef_ : {}\".format(lr.coef_))\n",
    "print(\"lr.intercept_ : {}\".format(lr.intercept_))"
   ]
  },
  {
   "cell_type": "markdown",
   "metadata": {},
   "source": [
    "* `intercept_` : 항상 실수 값 하나이다.\n",
    "* `coef_` : 각 입력 특성에 하나씩 대응하는 Numpy배열이다. "
   ]
  },
  {
   "cell_type": "code",
   "execution_count": 6,
   "metadata": {},
   "outputs": [
    {
     "name": "stdout",
     "output_type": "stream",
     "text": [
      "훈련 세트 점수 : 0.67\n",
      "테스트 세트 점수 : 0.66\n"
     ]
    }
   ],
   "source": [
    "print(\"훈련 세트 점수 : {:.2f}\".format(lr.score(X_train, y_train)))\n",
    "print(\"테스트 세트 점수 : {:.2f}\".format(lr.score(X_test, y_test)))"
   ]
  },
  {
   "cell_type": "markdown",
   "metadata": {},
   "source": [
    "** 저차원 데이터셋에서는 모델이 단순하나 고차원은 모델이 복잡해져서 과대적합될 가능성이 높다. **"
   ]
  },
  {
   "cell_type": "code",
   "execution_count": 7,
   "metadata": {},
   "outputs": [],
   "source": [
    "X, y = mglearn.datasets.load_extended_boston()\n",
    "\n",
    "X_train, X_test, y_train, y_test = train_test_split(X, y, random_state=0)\n",
    "lr = LinearRegression().fit(X_train, y_train)"
   ]
  },
  {
   "cell_type": "code",
   "execution_count": 8,
   "metadata": {},
   "outputs": [
    {
     "name": "stdout",
     "output_type": "stream",
     "text": [
      "훈련 세트 점수 : 0.95\n",
      "테스트 세트 점수 : 0.61\n"
     ]
    }
   ],
   "source": [
    "print(\"훈련 세트 점수 : {:.2f}\".format(lr.score(X_train, y_train)))\n",
    "print(\"테스트 세트 점수 : {:.2f}\".format(lr.score(X_test, y_test)))"
   ]
  },
  {
   "cell_type": "markdown",
   "metadata": {},
   "source": [
    "** 과대적합 되었음 **"
   ]
  },
  {
   "cell_type": "markdown",
   "metadata": {},
   "source": [
    "### 릿지 회귀\n",
    "* 최소적합법에서 사용한 것과 같은 예측 함수를 사용한다,\n",
    "* 제약 조건을 만족 시키지기 위한 목적이 있음\n",
    "* 가중치의 절대값을 가능한 작게 만든다.\n",
    "* 규제로 과대적합 되지 않도록 모델을 강제로 제한한다.\n",
    "* L2규제 방식을 사용한다."
   ]
  },
  {
   "cell_type": "code",
   "execution_count": 11,
   "metadata": {},
   "outputs": [
    {
     "name": "stdout",
     "output_type": "stream",
     "text": [
      "훈련 세트 점수 : 0.89\n",
      "테스트 세트 점수 : 0.75\n"
     ]
    }
   ],
   "source": [
    "from sklearn.linear_model import Ridge\n",
    "ridge = Ridge().fit(X_train, y_train)\n",
    "print(\"훈련 세트 점수 : {:.2f}\".format(ridge.score(X_train, y_train)))\n",
    "print(\"테스트 세트 점수 : {:.2f}\".format(ridge.score(X_test, y_test)))"
   ]
  },
  {
   "cell_type": "markdown",
   "metadata": {},
   "source": [
    "* 훈련 세트 점수는 선형회귀보다 낮지만 테스트 세트에 점수는 더 높다\n",
    "* 선형 회귀에 비해 자유로운 모델이기 때문에 과대적합이 적다.\n",
    "* 모델의 복잡도가 낮아지면 훈련 세트에서의 성능은 나빠지지만 더 일반화된 모델이 된다."
   ]
  },
  {
   "cell_type": "markdown",
   "metadata": {},
   "source": [
    "##### 특징\n",
    "* 모델을 단순하게 (계수를 0에 가깝게) 해주고 훈련 세트에 대한 성능 사이를 절충해주는 방법을 제공한다.\n",
    "* `alpha` 매개변수로 모델을 얼마나 단순화할지 지정할 수 있다."
   ]
  },
  {
   "cell_type": "code",
   "execution_count": 12,
   "metadata": {},
   "outputs": [
    {
     "name": "stdout",
     "output_type": "stream",
     "text": [
      "훈련 세트 점수 : 0.79\n",
      "테스트 세트 점수 : 0.64\n"
     ]
    }
   ],
   "source": [
    "# alpha 값을 높이면 계수를 0에 더 가깝게 만들어서 훈련세트의 성능은 나빠지지만 일반화에는 도움을 준다.\n",
    "\n",
    "ridge10 = Ridge(alpha=10).fit(X_train, y_train)\n",
    "print(\"훈련 세트 점수 : {:.2f}\".format(ridge10.score(X_train, y_train)))\n",
    "print(\"테스트 세트 점수 : {:.2f}\".format(ridge10.score(X_test, y_test)))"
   ]
  },
  {
   "cell_type": "code",
   "execution_count": 14,
   "metadata": {},
   "outputs": [
    {
     "name": "stdout",
     "output_type": "stream",
     "text": [
      "훈련 세트 점수 : 0.93\n",
      "테스트 세트 점수 : 0.77\n"
     ]
    }
   ],
   "source": [
    "# alpha 값을 줄이면 계수에 대한 제약이 풀린다. (alpha 값을 작게하면 LinearRegression으로 만든 모델과 같아진다.)\n",
    "\n",
    "ridge01 = Ridge(alpha=0.1).fit(X_train, y_train)\n",
    "print(\"훈련 세트 점수 : {:.2f}\".format(ridge01.score(X_train, y_train)))\n",
    "print(\"테스트 세트 점수 : {:.2f}\".format(ridge01.score(X_test, y_test)))"
   ]
  },
  {
   "cell_type": "markdown",
   "metadata": {},
   "source": [
    "* 높은 alpha 값은 제약이 더 많은 모델이므로 작은 alpha 값일 때보다 coef_ 의 절대값 크기가 작은 것이라고 예상할 수 있다."
   ]
  },
  {
   "cell_type": "code",
   "execution_count": 16,
   "metadata": {},
   "outputs": [
    {
     "data": {
      "text/plain": [
       "<matplotlib.legend.Legend at 0x1c24164090>"
      ]
     },
     "execution_count": 16,
     "metadata": {},
     "output_type": "execute_result"
    },
    {
     "data": {
      "image/png": "[encoded data removed]",
      "text/plain": [
       "<Figure size 432x288 with 1 Axes>"
      ]
     },
     "metadata": {},
     "output_type": "display_data"
    }
   ],
   "source": [
    "plt.plot(ridge10.coef_, '^', label=\"Ridge alpha=10\")\n",
    "plt.plot(ridge.coef_, 's', label=\"Ridge alpha=1\")\n",
    "plt.plot(ridge01.coef_, 'v', label=\"Ridge alpha=0.1\")\n",
    "\n",
    "plt.plot(lr.coef_, 'o', label=\"LinearRegression\")\n",
    "plt.xlabel(\"coef list\")\n",
    "plt.ylabel(\"coef size\")\n",
    "plt.hlines(0,0,len(lr.coef_))\n",
    "plt.ylim(-25, 25)\n",
    "plt.legend()"
   ]
  },
  {
   "cell_type": "markdown",
   "metadata": {},
   "source": [
    "* `학습 곡선` : 데이터셋의 크기에 따른 모델의 성능 변화를 나타낸 그래프"
   ]
  },
  {
   "cell_type": "code",
   "execution_count": 18,
   "metadata": {},
   "outputs": [
    {
     "data": {
      "image/png": "[encoded data removed]",
      "text/plain": [
       "<Figure size 432x288 with 1 Axes>"
      ]
     },
     "metadata": {},
     "output_type": "display_data"
    }
   ],
   "source": [
    "# 보스턴 주택 가격 데이터셋으로 여거라깆 크기로 샘플링 하여 LinearRegression & Ridge을 적용한 것이다.\n",
    "mglearn.plots.plot_ridge_n_samples()"
   ]
  },
  {
   "cell_type": "markdown",
   "metadata": {},
   "source": [
    "* 릿지와 선형 회귀는 데이터가 많아질수록 좋아진다.\n",
    "* 데이터가 충분하면 릿지와 선형 회귀는 성능이 같아질 것이다."
   ]
  },
  {
   "cell_type": "markdown",
   "metadata": {},
   "source": [
    "### Lasso\n",
    "* L1규제를 사용한다.\n",
    "* L1규제는 특정 계수가 정말 0이 된다. (완전히 제외되는 특성이 생긴다.)\n",
    "* 특성 선택이 자동으로 이뤄진다."
   ]
  },
  {
   "cell_type": "code",
   "execution_count": 21,
   "metadata": {},
   "outputs": [
    {
     "name": "stdout",
     "output_type": "stream",
     "text": [
      "훈련 세트 점수 : 0.29\n",
      "테스트 세트 점수 : 0.21\n",
      "사용한 특성의 수 : 4\n"
     ]
    }
   ],
   "source": [
    "from sklearn.linear_model import Lasso\n",
    "\n",
    "lasso = Lasso().fit(X_train, y_train)\n",
    "print(\"훈련 세트 점수 : {:.2f}\".format(lasso.score(X_train, y_train)))\n",
    "print(\"테스트 세트 점수 : {:.2f}\".format(lasso.score(X_test, y_test)))\n",
    "print(\"사용한 특성의 수 : {}\".format(np.sum(lasso.coef_ != 0)))\n"
   ]
  },
  {
   "cell_type": "markdown",
   "metadata": {},
   "source": [
    "* `max_iter` : 반복 실행하는 최대 횟수"
   ]
  },
  {
   "cell_type": "code",
   "execution_count": 28,
   "metadata": {},
   "outputs": [
    {
     "name": "stdout",
     "output_type": "stream",
     "text": [
      "훈련 세트 점수 : 0.90\n",
      "테스트 세트 점수 : 0.77\n",
      "사용한 특성의 수 : 33\n"
     ]
    }
   ],
   "source": [
    "lasso001 = Lasso(alpha=0.01, max_iter=100000).fit(X_train, y_train)\n",
    "print(\"훈련 세트 점수 : {:.2f}\".format(lasso001.score(X_train, y_train)))\n",
    "print(\"테스트 세트 점수 : {:.2f}\".format(lasso001.score(X_test, y_test)))\n",
    "print(\"사용한 특성의 수 : {}\".format(np.sum(lasso001.coef_ != 0)))"
   ]
  },
  {
   "cell_type": "markdown",
   "metadata": {},
   "source": [
    "* alpha 값을 낮추면 모델의 복잡도가 증가하여 성능이 좋아진다. 하지만 너무 낮추면 과대적합이 되어 선형 회귀와 결과가 비슷해진다."
   ]
  },
  {
   "cell_type": "code",
   "execution_count": 24,
   "metadata": {},
   "outputs": [
    {
     "name": "stdout",
     "output_type": "stream",
     "text": [
      "훈련 세트 점수 : 0.94\n",
      "테스트 세트 점수 : 0.74\n",
      "사용한 특성의 수 : 69\n"
     ]
    }
   ],
   "source": [
    "lasso00001 = Lasso(alpha=0.001, max_iter=100000).fit(X_train, y_train)\n",
    "print(\"훈련 세트 점수 : {:.2f}\".format(lasso00001.score(X_train, y_train)))\n",
    "print(\"테스트 세트 점수 : {:.2f}\".format(lasso00001.score(X_test, y_test)))\n",
    "print(\"사용한 특성의 수 : {}\".format(np.sum(lasso00001.coef_ != 0)))"
   ]
  },
  {
   "cell_type": "code",
   "execution_count": 33,
   "metadata": {},
   "outputs": [
    {
     "data": {
      "text/plain": [
       "Text(0,0.5,'coef size')"
      ]
     },
     "execution_count": 33,
     "metadata": {},
     "output_type": "execute_result"
    },
    {
     "data": {
      "image/png": "[encoded data removed]",
      "text/plain": [
       "<Figure size 432x288 with 1 Axes>"
      ]
     },
     "metadata": {},
     "output_type": "display_data"
    }
   ],
   "source": [
    "plt.plot(lasso.coef_, 's', label=\"Ridge alpha=1\")\n",
    "plt.plot(lasso001.coef_, '^', label=\"Ridge alpha=0.01\")\n",
    "plt.plot(lasso00001.coef_, 'v', label=\"Ridge alpha=0.001\")\n",
    "\n",
    "plt.plot(ridge01.coef_, 'o', label=\"Ridge alpha=0.1\")\n",
    "plt.legend(ncol=2, loc=(0, 1.05))\n",
    "plt.ylim(-25, 25)\n",
    "plt.xlabel(\"coef list\")\n",
    "plt.ylabel(\"coef size\")\n",
    "\n"
   ]
  },
  {
   "cell_type": "markdown",
   "metadata": {},
   "source": [
    "* alpha=0.1인 Ridge 모델은 alpha=0.01인 라쏘 모델과 성능이 비슷하지만 Ridge를 사용하면 어떤 계수도 0이 되지 않는다.\n",
    "* 사이킷런은 Lasso와 Ridge의 패널티를 결합한 ElasticNet도 제공한다.\n",
    "* 이 조합은 최상의 성능을 내지만 L1규제와 L2규제를 위한 매개변수 두개를 조정해야한다."
   ]
  },
  {
   "cell_type": "code",
   "execution_count": null,
   "metadata": {},
   "outputs": [],
   "source": []
  }
 ],
 "metadata": {
  "kernelspec": {
   "display_name": "Python 3",
   "language": "python",
   "name": "python3"
  },
  "language_info": {
   "codemirror_mode": {
    "name": "ipython",
    "version": 2
   },
   "file_extension": ".py",
   "mimetype": "text/x-python",
   "name": "python",
   "nbconvert_exporter": "python",
   "pygments_lexer": "ipython2",
   "version": "2.7.14"
  }
 },
 "nbformat": 4,
 "nbformat_minor": 2
}
